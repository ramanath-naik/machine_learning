{
  "nbformat": 4,
  "nbformat_minor": 0,
  "metadata": {
    "colab": {
      "provenance": [],
      "authorship_tag": "ABX9TyP1Qsicp+Mkvj1oRGx4YW8I",
      "include_colab_link": true
    },
    "kernelspec": {
      "name": "python3",
      "display_name": "Python 3"
    },
    "language_info": {
      "name": "python"
    }
  },
  "cells": [
    {
      "cell_type": "markdown",
      "metadata": {
        "id": "view-in-github",
        "colab_type": "text"
      },
      "source": [
        "<a href=\"https://colab.research.google.com/github/ramanath-naik/machine_learning/blob/main/Test.ipynb\" target=\"_parent\"><img src=\"https://colab.research.google.com/assets/colab-badge.svg\" alt=\"Open In Colab\"/></a>"
      ]
    },
    {
      "cell_type": "code",
      "source": [
        "import pandas as pd\n",
        "\n",
        "file_path = '/content/sample_data/top_tv_series.csv'\n",
        "\n",
        "df = pd.read_csv(file_path)\n",
        "print(df.head())\n"
      ],
      "metadata": {
        "id": "Yd2vxdf_-rse"
      },
      "execution_count": null,
      "outputs": []
    },
    {
      "cell_type": "code",
      "source": [
        "import pandas as pd\n",
        "\n",
        "file_path = '/content/sample_data/top_tv_series.csv'\n",
        "\n",
        "df = pd.read_csv(file_path)\n",
        "\n",
        "# Adjust display settings\n",
        "pd.set_option('display.max_columns', None)\n",
        "pd.set_option('display.width', 1000)\n",
        "\n",
        "print(df.head())\n"
      ],
      "metadata": {
        "id": "CuEDRDGlEUdR"
      },
      "execution_count": null,
      "outputs": []
    },
    {
      "cell_type": "code",
      "source": [
        "import pandas as pd\n",
        "import matplotlib.pyplot as plt\n",
        "\n",
        "file_path = '/content/sample_data/california_housing_test.csv'\n",
        "\n",
        "df = pd.read_csv(file_path)\n",
        "\n",
        "# Adjust display settings\n",
        "pd.set_option('display.max_columns', None)\n",
        "pd.set_option('display.width', 700)\n",
        "\n",
        "print(df.head())\n",
        "print(df.info())\n",
        "print(df.describe())\n",
        "print(df.hist(bins=50, figsize=(20,15)))"
      ],
      "metadata": {
        "id": "R4hyo0YTcHra"
      },
      "execution_count": null,
      "outputs": []
    }
  ]
}