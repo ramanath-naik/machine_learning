{
  "nbformat": 4,
  "nbformat_minor": 0,
  "metadata": {
    "colab": {
      "provenance": [],
      "authorship_tag": "ABX9TyNjor/sHTrN6EPxlhCMj43X",
      "include_colab_link": true
    },
    "kernelspec": {
      "name": "python3",
      "display_name": "Python 3"
    },
    "language_info": {
      "name": "python"
    }
  },
  "cells": [
    {
      "cell_type": "markdown",
      "metadata": {
        "id": "view-in-github",
        "colab_type": "text"
      },
      "source": [
        "<a href=\"https://colab.research.google.com/github/ramanath-naik/machine_learning/blob/main/linear.ipynb\" target=\"_parent\"><img src=\"https://colab.research.google.com/assets/colab-badge.svg\" alt=\"Open In Colab\"/></a>"
      ]
    },
    {
      "cell_type": "markdown",
      "source": [
        "Linear Regression"
      ],
      "metadata": {
        "id": "HdOCYiWCbJsy"
      }
    },
    {
      "cell_type": "code",
      "source": [
        "import numpy as np\n",
        "\n",
        "X = 2 * np.random.rand(100, 1)\n",
        "y = 4 + 3 * X + np.random.randn(100, 1)"
      ],
      "metadata": {
        "id": "DkcQ_7mnbMlO"
      },
      "execution_count": 1,
      "outputs": []
    },
    {
      "cell_type": "code",
      "source": [
        "print(X)"
      ],
      "metadata": {
        "colab": {
          "base_uri": "https://localhost:8080/"
        },
        "id": "zT_8jJMVbWqJ",
        "outputId": "2380a09f-fec1-423e-bc61-3a47f3bd88fc"
      },
      "execution_count": 2,
      "outputs": [
        {
          "output_type": "stream",
          "name": "stdout",
          "text": [
            "[[1.31708782]\n",
            " [1.76038837]\n",
            " [0.32075558]\n",
            " [1.98591745]\n",
            " [0.06875877]\n",
            " [0.51402832]\n",
            " [1.22452449]\n",
            " [1.39123388]\n",
            " [1.56354645]\n",
            " [1.6576259 ]\n",
            " [0.16459506]\n",
            " [0.03732169]\n",
            " [1.8588425 ]\n",
            " [0.6034559 ]\n",
            " [0.56144214]\n",
            " [0.47395668]\n",
            " [0.14073951]\n",
            " [0.32046806]\n",
            " [1.35991792]\n",
            " [0.83868642]\n",
            " [0.06205851]\n",
            " [0.70655167]\n",
            " [1.65100316]\n",
            " [0.6592393 ]\n",
            " [1.49737548]\n",
            " [0.65608681]\n",
            " [1.47663811]\n",
            " [0.56866389]\n",
            " [0.75253768]\n",
            " [1.53849107]\n",
            " [1.34872653]\n",
            " [1.55632968]\n",
            " [1.74141541]\n",
            " [1.37076421]\n",
            " [1.03750492]\n",
            " [0.25511403]\n",
            " [0.21217868]\n",
            " [1.72952424]\n",
            " [0.06524655]\n",
            " [1.70379673]\n",
            " [0.52599873]\n",
            " [1.34832233]\n",
            " [0.93053543]\n",
            " [0.07634832]\n",
            " [1.98103232]\n",
            " [1.88553882]\n",
            " [0.03983093]\n",
            " [0.59730105]\n",
            " [1.93226761]\n",
            " [0.3538347 ]\n",
            " [1.40358179]\n",
            " [1.86610056]\n",
            " [1.64113023]\n",
            " [1.43890421]\n",
            " [1.95622599]\n",
            " [1.33547938]\n",
            " [1.74629783]\n",
            " [0.17359441]\n",
            " [0.22336554]\n",
            " [0.67694423]\n",
            " [0.31570459]\n",
            " [1.63628519]\n",
            " [1.91704256]\n",
            " [0.68887129]\n",
            " [1.10167194]\n",
            " [1.73040576]\n",
            " [0.81637838]\n",
            " [1.38415654]\n",
            " [1.19688487]\n",
            " [0.23354653]\n",
            " [0.26436995]\n",
            " [0.5780646 ]\n",
            " [0.66411721]\n",
            " [1.26652287]\n",
            " [1.3821451 ]\n",
            " [1.70783887]\n",
            " [0.86005052]\n",
            " [0.78367672]\n",
            " [1.60076468]\n",
            " [0.87315925]\n",
            " [1.1453684 ]\n",
            " [0.02336861]\n",
            " [1.83493086]\n",
            " [1.500319  ]\n",
            " [0.66301103]\n",
            " [1.57001119]\n",
            " [0.79337258]\n",
            " [1.43169323]\n",
            " [0.76990809]\n",
            " [0.01229252]\n",
            " [0.99329483]\n",
            " [1.43120721]\n",
            " [1.43589206]\n",
            " [1.7139199 ]\n",
            " [1.07476521]\n",
            " [0.99120095]\n",
            " [0.313197  ]\n",
            " [1.37890071]\n",
            " [0.23877443]\n",
            " [0.38247961]]\n"
          ]
        }
      ]
    },
    {
      "cell_type": "code",
      "source": [
        "print(y)"
      ],
      "metadata": {
        "colab": {
          "base_uri": "https://localhost:8080/"
        },
        "id": "mdQTzcOXb2L5",
        "outputId": "e47b32ce-02c6-47a1-e7c1-8206cb44ff1c"
      },
      "execution_count": 3,
      "outputs": [
        {
          "output_type": "stream",
          "name": "stdout",
          "text": [
            "[[ 6.77898725]\n",
            " [ 9.72701461]\n",
            " [ 3.92631128]\n",
            " [11.87700224]\n",
            " [ 2.24661741]\n",
            " [ 6.08088575]\n",
            " [ 7.86443994]\n",
            " [ 8.29684933]\n",
            " [ 8.49016568]\n",
            " [ 7.99447029]\n",
            " [ 2.17470781]\n",
            " [ 3.22369788]\n",
            " [ 8.09596849]\n",
            " [ 6.43370653]\n",
            " [ 6.82681835]\n",
            " [ 7.1085827 ]\n",
            " [ 2.5834488 ]\n",
            " [ 4.6527543 ]\n",
            " [ 7.11269477]\n",
            " [ 6.41846313]\n",
            " [ 4.13877124]\n",
            " [ 6.9802865 ]\n",
            " [ 8.1433346 ]\n",
            " [ 5.7400089 ]\n",
            " [ 6.4049346 ]\n",
            " [ 5.2808146 ]\n",
            " [ 7.28631171]\n",
            " [ 4.77581424]\n",
            " [ 6.06385246]\n",
            " [ 7.6159472 ]\n",
            " [ 6.7388826 ]\n",
            " [ 7.15102277]\n",
            " [ 7.66837027]\n",
            " [ 7.75593861]\n",
            " [ 5.93996876]\n",
            " [ 3.70657   ]\n",
            " [ 4.85415571]\n",
            " [ 9.80884839]\n",
            " [ 3.84753361]\n",
            " [ 8.51552838]\n",
            " [ 3.25367298]\n",
            " [ 8.64730935]\n",
            " [ 7.67436796]\n",
            " [ 5.6624292 ]\n",
            " [ 9.09573642]\n",
            " [12.82681106]\n",
            " [ 4.62637276]\n",
            " [ 6.42892794]\n",
            " [ 9.8295362 ]\n",
            " [ 2.82096269]\n",
            " [ 9.40038321]\n",
            " [ 9.69870002]\n",
            " [ 8.86742702]\n",
            " [ 7.78511071]\n",
            " [11.03244681]\n",
            " [ 8.44238032]\n",
            " [ 9.17342384]\n",
            " [ 4.23146962]\n",
            " [ 4.31924916]\n",
            " [ 6.7092334 ]\n",
            " [ 5.47003307]\n",
            " [ 9.63421525]\n",
            " [ 9.40292132]\n",
            " [ 4.91825495]\n",
            " [ 9.07927503]\n",
            " [ 9.52890208]\n",
            " [ 4.88021087]\n",
            " [ 8.92354413]\n",
            " [ 8.78335542]\n",
            " [ 4.13450401]\n",
            " [ 3.86352385]\n",
            " [ 5.41374476]\n",
            " [ 5.23605911]\n",
            " [ 8.21021252]\n",
            " [ 9.69388127]\n",
            " [ 7.61516698]\n",
            " [ 6.90595629]\n",
            " [ 6.47733678]\n",
            " [ 6.82751348]\n",
            " [ 4.96908996]\n",
            " [ 6.66108702]\n",
            " [ 4.3635071 ]\n",
            " [ 7.24662836]\n",
            " [ 6.14534666]\n",
            " [ 7.35211711]\n",
            " [10.50959356]\n",
            " [ 5.81339475]\n",
            " [ 7.37534142]\n",
            " [ 8.33443089]\n",
            " [ 3.8618384 ]\n",
            " [ 7.9055713 ]\n",
            " [ 8.78202848]\n",
            " [ 8.42433597]\n",
            " [10.68798802]\n",
            " [ 6.98007844]\n",
            " [ 7.36888665]\n",
            " [ 4.51791494]\n",
            " [ 8.07501171]\n",
            " [ 4.57759103]\n",
            " [ 5.21721994]]\n"
          ]
        }
      ]
    },
    {
      "cell_type": "code",
      "source": [
        "X_b = np.c_[np.ones((100, 1)), X]\n",
        "theta_best = np.linalg.inv(X_b.T.dot(X_b)).dot(X_b.T).dot(y)\n",
        "\n",
        "theta_best"
      ],
      "metadata": {
        "colab": {
          "base_uri": "https://localhost:8080/"
        },
        "id": "FRrGD93hb9Qi",
        "outputId": "85f4c41e-d49b-4b7f-926c-d5312888b9fd"
      },
      "execution_count": 5,
      "outputs": [
        {
          "output_type": "execute_result",
          "data": {
            "text/plain": [
              "array([[3.67041558],\n",
              "       [3.14990707]])"
            ]
          },
          "metadata": {},
          "execution_count": 5
        }
      ]
    },
    {
      "cell_type": "code",
      "source": [
        "X_new = np.array([[0], [2]])\n",
        "X_new_b = np.c_[np.ones((2, 1)), X_new]\n",
        "y_predict = X_new_b.dot(theta_best)\n",
        "y_predict"
      ],
      "metadata": {
        "colab": {
          "base_uri": "https://localhost:8080/"
        },
        "id": "UiC2IwLP_ndK",
        "outputId": "7165151b-b879-423c-de75-987e09dd5c7e"
      },
      "execution_count": 6,
      "outputs": [
        {
          "output_type": "execute_result",
          "data": {
            "text/plain": [
              "array([[3.67041558],\n",
              "       [9.97022972]])"
            ]
          },
          "metadata": {},
          "execution_count": 6
        }
      ]
    },
    {
      "cell_type": "code",
      "source": [
        "import matplotlib.pyplot as plt\n",
        "\n",
        "plt.plot(X_new, y_predict, \"r-\")\n",
        "plt.plot(X, y, \"b.\")\n",
        "plt.axis([0, 2, 0, 15])\n",
        "plt.show()"
      ],
      "metadata": {
        "colab": {
          "base_uri": "https://localhost:8080/",
          "height": 430
        },
        "id": "u7uDxaM3E5kO",
        "outputId": "dce55564-fa8a-45df-b8cc-9efef35e67d3"
      },
      "execution_count": 7,
      "outputs": [
        {
          "output_type": "display_data",
          "data": {
            "text/plain": [
              "<Figure size 640x480 with 1 Axes>"
            ],
            "image/png": "[encoded data removed]"
          },
          "metadata": {}
        }
      ]
    },
    {
      "cell_type": "code",
      "source": [
        "from sklearn.linear_model import LinearRegression\n",
        "lin_reg = LinearRegression()\n",
        "lin_reg.fit(X, y)\n",
        "lin_reg.intercept_, lin_reg.coef_"
      ],
      "metadata": {
        "colab": {
          "base_uri": "https://localhost:8080/"
        },
        "id": "Ff9aSZ_7G9kU",
        "outputId": "825970b7-440d-427c-c2ff-8b45d956e124"
      },
      "execution_count": 8,
      "outputs": [
        {
          "output_type": "execute_result",
          "data": {
            "text/plain": [
              "(array([3.67041558]), array([[3.14990707]]))"
            ]
          },
          "metadata": {},
          "execution_count": 8
        }
      ]
    },
    {
      "cell_type": "code",
      "source": [
        "lin_reg.predict(X_new)"
      ],
      "metadata": {
        "colab": {
          "base_uri": "https://localhost:8080/"
        },
        "id": "_XMDFZPJKRQ0",
        "outputId": "d573eba0-eb1b-4487-9f1b-b7ac29d42a27"
      },
      "execution_count": 9,
      "outputs": [
        {
          "output_type": "execute_result",
          "data": {
            "text/plain": [
              "array([[3.67041558],\n",
              "       [9.97022972]])"
            ]
          },
          "metadata": {},
          "execution_count": 9
        }
      ]
    },
    {
      "cell_type": "code",
      "source": [
        "theta_best_svd, residuals, rank, s = np.linalg.lstsq(X_b, y, rcond=1e-6)\n",
        "theta_best_svd"
      ],
      "metadata": {
        "colab": {
          "base_uri": "https://localhost:8080/"
        },
        "id": "EzAMKwtZKUvQ",
        "outputId": "972de4c0-f29a-4466-e5ad-87ebccea3d4a"
      },
      "execution_count": 10,
      "outputs": [
        {
          "output_type": "execute_result",
          "data": {
            "text/plain": [
              "array([[3.67041558],\n",
              "       [3.14990707]])"
            ]
          },
          "metadata": {},
          "execution_count": 10
        }
      ]
    },
    {
      "cell_type": "code",
      "source": [
        "eta = 0.1\n",
        "n_iterations = 1000\n",
        "m = 100\n",
        "theta = np.random.randn(2,1)\n",
        "for iteration in range(n_iterations):\n",
        "  gradients = 2/m * X_b.T.dot(X_b.dot(theta) - y)\n",
        "  theta = theta - eta * gradients\n",
        "\n",
        "theta"
      ],
      "metadata": {
        "colab": {
          "base_uri": "https://localhost:8080/"
        },
        "id": "eFn22byNKZBn",
        "outputId": "68d4320f-caf4-43d0-f68f-5b87460fc082"
      },
      "execution_count": 13,
      "outputs": [
        {
          "output_type": "execute_result",
          "data": {
            "text/plain": [
              "array([[3.67041558],\n",
              "       [3.14990707]])"
            ]
          },
          "metadata": {},
          "execution_count": 13
        }
      ]
    },
    {
      "cell_type": "code",
      "source": [
        "n_epochs = 50\n",
        "t0, t1 = 5, 50\n",
        "\n",
        "def learning_schedule(t):\n",
        "  return t0 / (t + t1)\n",
        "theta = np.random.randn(2,1)\n",
        "for epoch in range(n_epochs):\n",
        "  for i in range(m):\n",
        "    random_index = np.random.randint(m)\n",
        "    xi = X_b[random_index:random_index+1]\n",
        "    yi = y[random_index:random_index+1]\n",
        "    gradients = 2 * xi.T.dot(xi.dot(theta) - yi)\n",
        "    eta = learning_schedule(epoch * m + i)\n",
        "    theta = theta - eta * gradients\n",
        "\n",
        "theta"
      ],
      "metadata": {
        "colab": {
          "base_uri": "https://localhost:8080/"
        },
        "id": "o-aT-arxUvXj",
        "outputId": "b1e2583d-37ed-4c27-eb6b-6a263d9057d9"
      },
      "execution_count": 14,
      "outputs": [
        {
          "output_type": "execute_result",
          "data": {
            "text/plain": [
              "array([[3.61955169],\n",
              "       [3.20848719]])"
            ]
          },
          "metadata": {},
          "execution_count": 14
        }
      ]
    },
    {
      "cell_type": "code",
      "source": [
        "from sklearn.linear_model import SGDRegressor\n",
        "sgd_reg = SGDRegressor(max_iter=1000, tol=1e-3, penalty=None, eta0=0.1)\n",
        "sgd_reg.fit(X, y.ravel())"
      ],
      "metadata": {
        "colab": {
          "base_uri": "https://localhost:8080/",
          "height": 75
        },
        "id": "_hVbki_qbD2B",
        "outputId": "be1e29bf-a601-4c15-8d77-0ced52df9100"
      },
      "execution_count": 15,
      "outputs": [
        {
          "output_type": "execute_result",
          "data": {
            "text/plain": [
              "SGDRegressor(eta0=0.1, penalty=None)"
            ],
            "text/html": [
              "<style>#sk-container-id-1 {color: black;background-color: white;}#sk-container-id-1 pre{padding: 0;}#sk-container-id-1 div.sk-toggleable {background-color: white;}#sk-container-id-1 label.sk-toggleable__label {cursor: pointer;display: block;width: 100%;margin-bottom: 0;padding: 0.3em;box-sizing: border-box;text-align: center;}#sk-container-id-1 label.sk-toggleable__label-arrow:before {content: \"▸\";float: left;margin-right: 0.25em;color: #696969;}#sk-container-id-1 label.sk-toggleable__label-arrow:hover:before {color: black;}#sk-container-id-1 div.sk-estimator:hover label.sk-toggleable__label-arrow:before {color: black;}#sk-container-id-1 div.sk-toggleable__content {max-height: 0;max-width: 0;overflow: hidden;text-align: left;background-color: #f0f8ff;}#sk-container-id-1 div.sk-toggleable__content pre {margin: 0.2em;color: black;border-radius: 0.25em;background-color: #f0f8ff;}#sk-container-id-1 input.sk-toggleable__control:checked~div.sk-toggleable__content {max-height: 200px;max-width: 100%;overflow: auto;}#sk-container-id-1 input.sk-toggleable__control:checked~label.sk-toggleable__label-arrow:before {content: \"▾\";}#sk-container-id-1 div.sk-estimator input.sk-toggleable__control:checked~label.sk-toggleable__label {background-color: #d4ebff;}#sk-container-id-1 div.sk-label input.sk-toggleable__control:checked~label.sk-toggleable__label {background-color: #d4ebff;}#sk-container-id-1 input.sk-hidden--visually {border: 0;clip: rect(1px 1px 1px 1px);clip: rect(1px, 1px, 1px, 1px);height: 1px;margin: -1px;overflow: hidden;padding: 0;position: absolute;width: 1px;}#sk-container-id-1 div.sk-estimator {font-family: monospace;background-color: #f0f8ff;border: 1px dotted black;border-radius: 0.25em;box-sizing: border-box;margin-bottom: 0.5em;}#sk-container-id-1 div.sk-estimator:hover {background-color: #d4ebff;}#sk-container-id-1 div.sk-parallel-item::after {content: \"\";width: 100%;border-bottom: 1px solid gray;flex-grow: 1;}#sk-container-id-1 div.sk-label:hover label.sk-toggleable__label {background-color: #d4ebff;}#sk-container-id-1 div.sk-serial::before {content: \"\";position: absolute;border-left: 1px solid gray;box-sizing: border-box;top: 0;bottom: 0;left: 50%;z-index: 0;}#sk-container-id-1 div.sk-serial {display: flex;flex-direction: column;align-items: center;background-color: white;padding-right: 0.2em;padding-left: 0.2em;position: relative;}#sk-container-id-1 div.sk-item {position: relative;z-index: 1;}#sk-container-id-1 div.sk-parallel {display: flex;align-items: stretch;justify-content: center;background-color: white;position: relative;}#sk-container-id-1 div.sk-item::before, #sk-container-id-1 div.sk-parallel-item::before {content: \"\";position: absolute;border-left: 1px solid gray;box-sizing: border-box;top: 0;bottom: 0;left: 50%;z-index: -1;}#sk-container-id-1 div.sk-parallel-item {display: flex;flex-direction: column;z-index: 1;position: relative;background-color: white;}#sk-container-id-1 div.sk-parallel-item:first-child::after {align-self: flex-end;width: 50%;}#sk-container-id-1 div.sk-parallel-item:last-child::after {align-self: flex-start;width: 50%;}#sk-container-id-1 div.sk-parallel-item:only-child::after {width: 0;}#sk-container-id-1 div.sk-dashed-wrapped {border: 1px dashed gray;margin: 0 0.4em 0.5em 0.4em;box-sizing: border-box;padding-bottom: 0.4em;background-color: white;}#sk-container-id-1 div.sk-label label {font-family: monospace;font-weight: bold;display: inline-block;line-height: 1.2em;}#sk-container-id-1 div.sk-label-container {text-align: center;}#sk-container-id-1 div.sk-container {/* jupyter's `normalize.less` sets `[hidden] { display: none; }` but bootstrap.min.css set `[hidden] { display: none !important; }` so we also need the `!important` here to be able to override the default hidden behavior on the sphinx rendered scikit-learn.org. See: https://github.com/scikit-learn/scikit-learn/issues/21755 */display: inline-block !important;position: relative;}#sk-container-id-1 div.sk-text-repr-fallback {display: none;}</style><div id=\"sk-container-id-1\" class=\"sk-top-container\"><div class=\"sk-text-repr-fallback\"><pre>SGDRegressor(eta0=0.1, penalty=None)</pre><b>In a Jupyter environment, please rerun this cell to show the HTML representation or trust the notebook. <br />On GitHub, the HTML representation is unable to render, please try loading this page with nbviewer.org.</b></div><div class=\"sk-container\" hidden><div class=\"sk-item\"><div class=\"sk-estimator sk-toggleable\"><input class=\"sk-toggleable__control sk-hidden--visually\" id=\"sk-estimator-id-1\" type=\"checkbox\" checked><label for=\"sk-estimator-id-1\" class=\"sk-toggleable__label sk-toggleable__label-arrow\">SGDRegressor</label><div class=\"sk-toggleable__content\"><pre>SGDRegressor(eta0=0.1, penalty=None)</pre></div></div></div></div></div>"
            ]
          },
          "metadata": {},
          "execution_count": 15
        }
      ]
    },
    {
      "cell_type": "code",
      "source": [
        "sgd_reg.intercept_, sgd_reg.coef_"
      ],
      "metadata": {
        "colab": {
          "base_uri": "https://localhost:8080/"
        },
        "id": "DAuLxsoZfvMr",
        "outputId": "f794a079-0912-479e-f7da-82264136698f"
      },
      "execution_count": 16,
      "outputs": [
        {
          "output_type": "execute_result",
          "data": {
            "text/plain": [
              "(array([3.59174228]), array([3.15112674]))"
            ]
          },
          "metadata": {},
          "execution_count": 16
        }
      ]
    },
    {
      "cell_type": "code",
      "source": [],
      "metadata": {
        "id": "4cNeH8g0fx_5"
      },
      "execution_count": null,
      "outputs": []
    }
  ]
}